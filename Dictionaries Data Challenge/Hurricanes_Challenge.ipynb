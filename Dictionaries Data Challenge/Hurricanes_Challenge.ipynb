{
 "cells": [
  {
   "cell_type": "markdown",
   "metadata": {},
   "source": [
    "# Hurricanes Challenge"
   ]
  },
  {
   "cell_type": "markdown",
   "metadata": {},
   "source": [
    "Hurricanes, also known as cyclones or typhoons, are one of the most powerful forces of nature on Earth. Due to climate change caused by human activity, the number and intensity of hurricanes has risen, calling for better preparation by the many communities that are devastated by them. As a concerned environmentalist, you want to look at data about the most powerful hurricanes that have occurred.\n",
    "\n",
    "Begin by looking at the `damages` list. The list contains strings representing the total cost in USD($) caused by `34` category 5 hurricanes (wind speeds ≥ 157 mph (252 km/h )) in the Atlantic region. For some of the hurricanes, damage data was not recorded `(\"Damages not recorded\")`, while the rest are written in the format `\"Prefix-B/M\"`, where B stands for billions `(1000000000)` and M stands for millions `(1000000)`.\n",
    "\n",
    "Write a function that returns a new list of updated damages where the recorded data is converted to float values and the missing data is retained as \"Damages not recorded\".\n",
    "\n",
    "Test your function with the data stored in damages."
   ]
  },
  {
   "cell_type": "code",
   "execution_count": 43,
   "metadata": {},
   "outputs": [],
   "source": [
    "# names of hurricanes\n",
    "names = ['Cuba I', 'San Felipe II Okeechobee', 'Bahamas', 'Cuba II', 'CubaBrownsville', 'Tampico', 'Labor Day', 'New England', 'Carol', 'Janet', 'Carla', 'Hattie', 'Beulah', 'Camille', 'Edith', 'Anita', 'David', 'Allen', 'Gilbert', 'Hugo', 'Andrew', 'Mitch', 'Isabel', 'Ivan', 'Emily', 'Katrina', 'Rita', 'Wilma', 'Dean', 'Felix', 'Matthew', 'Irma', 'Maria', 'Michael']\n",
    "\n",
    "# months of hurricanes\n",
    "months = ['October', 'September', 'September', 'November', 'August', 'September', 'September', 'September', 'September', 'September', 'September', 'October', 'September', 'August', 'September', 'September', 'August', 'August', 'September', 'September', 'August', 'October', 'September', 'September', 'July', 'August', 'September', 'October', 'August', 'September', 'October', 'September', 'September', 'October']\n",
    "\n",
    "# years of hurricanes\n",
    "years = [1924, 1928, 1932, 1932, 1933, 1933, 1935, 1938, 1953, 1955, 1961, 1961, 1967, 1969, 1971, 1977, 1979, 1980, 1988, 1989, 1992, 1998, 2003, 2004, 2005, 2005, 2005, 2005, 2007, 2007, 2016, 2017, 2017, 2018]\n",
    "\n",
    "# maximum sustained winds (mph) of hurricanes\n",
    "max_sustained_winds = [165, 160, 160, 175, 160, 160, 185, 160, 160, 175, 175, 160, 160, 175, 160, 175, 175, 190, 185, 160, 175, 180, 165, 165, 160, 175, 180, 185, 175, 175, 165, 180, 175, 160]\n",
    "\n",
    "# areas affected by each hurricane\n",
    "areas_affected = [['Central America', 'Mexico', 'Cuba', 'Florida', 'The Bahamas'], ['Lesser Antilles', 'The Bahamas', 'United States East Coast', 'Atlantic Canada'], ['The Bahamas', 'Northeastern United States'], ['Lesser Antilles', 'Jamaica', 'Cayman Islands', 'Cuba', 'The Bahamas', 'Bermuda'], ['The Bahamas', 'Cuba', 'Florida', 'Texas', 'Tamaulipas'], ['Jamaica', 'Yucatn Peninsula'], ['The Bahamas', 'Florida', 'Georgia', 'The Carolinas', 'Virginia'], ['Southeastern United States', 'Northeastern United States', 'Southwestern Quebec'], ['Bermuda', 'New England', 'Atlantic Canada'], ['Lesser Antilles', 'Central America'], ['Texas', 'Louisiana', 'Midwestern United States'], ['Central America'], ['The Caribbean', 'Mexico', 'Texas'], ['Cuba', 'United States Gulf Coast'], ['The Caribbean', 'Central America', 'Mexico', 'United States Gulf Coast'], ['Mexico'], ['The Caribbean', 'United States East coast'], ['The Caribbean', 'Yucatn Peninsula', 'Mexico', 'South Texas'], ['Jamaica', 'Venezuela', 'Central America', 'Hispaniola', 'Mexico'], ['The Caribbean', 'United States East Coast'], ['The Bahamas', 'Florida', 'United States Gulf Coast'], ['Central America', 'Yucatn Peninsula', 'South Florida'], ['Greater Antilles', 'Bahamas', 'Eastern United States', 'Ontario'], ['The Caribbean', 'Venezuela', 'United States Gulf Coast'], ['Windward Islands', 'Jamaica', 'Mexico', 'Texas'], ['Bahamas', 'United States Gulf Coast'], ['Cuba', 'United States Gulf Coast'], ['Greater Antilles', 'Central America', 'Florida'], ['The Caribbean', 'Central America'], ['Nicaragua', 'Honduras'], ['Antilles', 'Venezuela', 'Colombia', 'United States East Coast', 'Atlantic Canada'], ['Cape Verde', 'The Caribbean', 'British Virgin Islands', 'U.S. Virgin Islands', 'Cuba', 'Florida'], ['Lesser Antilles', 'Virgin Islands', 'Puerto Rico', 'Dominican Republic', 'Turks and Caicos Islands'], ['Central America', 'United States Gulf Coast (especially Florida Panhandle)']]\n",
    "\n",
    "# damages (USD($)) of hurricanes\n",
    "damages = ['Damages not recorded', '100M', 'Damages not recorded', '40M', '27.9M', '5M', 'Damages not recorded', '306M', '2M', '65.8M', '326M', '60.3M', '208M', '1.42B', '25.4M', 'Damages not recorded', '1.54B', '1.24B', '7.1B', '10B', '26.5B', '6.2B', '5.37B', '23.3B', '1.01B', '125B', '12B', '29.4B', '1.76B', '720M', '15.1B', '64.8B', '91.6B', '25.1B']\n",
    "\n",
    "# deaths for each hurricane\n",
    "deaths = [90,4000,16,3103,179,184,408,682,5,1023,43,319,688,259,37,11,2068,269,318,107,65,19325,51,124,17,1836,125,87,45,133,603,138,3057,74]\n",
    "\n",
    "\n"
   ]
  },
  {
   "cell_type": "markdown",
   "metadata": {},
   "source": [
    "### damages function"
   ]
  },
  {
   "cell_type": "code",
   "execution_count": 116,
   "metadata": {},
   "outputs": [
    {
     "output_type": "stream",
     "name": "stdout",
     "text": [
      "['Damages not recorded', 100000000.0, 'Damages not recorded', 40000000.0, 27900000.0, 5000000.0, 'Damages not recorded', 306000000.0, 2000000.0, 65800000.0, 326000000.0, 60300000.0, 208000000.0, 1420000000.0, 25400000.0, 'Damages not recorded', 1540000000.0, 1240000000.0, 7100000000.0, 10000000000.0, 26500000000.0, 6200000000.0, 5370000000.0, 23300000000.0, 1010000000.0, 125000000000.0, 12000000000.0, 29400000000.0, 1760000000.0, 720000000.0, 15100000000.0, 64800000000.0, 91600000000.0, 25100000000.0]\n"
     ]
    }
   ],
   "source": [
    "# write your update damages function here:\n",
    "\n",
    "def updated_damages(damage_list):\n",
    "    conversion = {\"M\": '1000000',\"B\": '1000000000'}\n",
    "    updated_damages = []\n",
    "    for item in damage_list:\n",
    "        if item[-1:] in conversion:\n",
    "            new_number = float(conversion[item[-1]]) * float(item[:-1])\n",
    "            updated_damages.append(new_number)\n",
    "        elif item == 'Damages not recorded':\n",
    "            updated_damages.append(item)\n",
    "    return updated_damages\n",
    "        \n",
    "\n",
    "updated_damages = updated_damages(damages)\n",
    "print(updated_damages)\n",
    "\n",
    "\n",
    "\n"
   ]
  },
  {
   "cell_type": "markdown",
   "metadata": {},
   "source": [
    "### hurricane dictionary function\n",
    "\n",
    "Additional data collected on the `34` strongest Atlantic hurricanes are provided in a series of lists. The data includes:\n",
    "\n",
    "`names:` names of the hurricanes\n",
    "` months` in which the hurricanes occurred\n",
    "`years:` years in which the hurricanes occurred\n",
    "`max_sustained_winds:` maximum sustained winds (miles per hour) of the hurricanes\n",
    "`areas_affected:` list of different areas affected by each of the hurricanes\n",
    "`deaths:` total number of deaths caused by each of the hurricanes\n",
    "\n",
    "The data is organized such that the data at each index, from `0 to 33`, corresponds to the same hurricane.\n",
    "\n",
    "For example, `names[0]` yields the “Cuba I” hurricane, which ouccred in `months[0] `(October) `years[0]` (1924).\n",
    "\n",
    "Write a function that constructs a dictionary made out of the lists, where the keys of the dictionary are the names of the hurricanes, and the values are dictionaries themselves containing a key for each piece of data (`Name`, `Month`, `Year`,`Max Sustained Wind`, `Areas Affected`, `Damage`, `Death`) about the hurricane.\n",
    "\n",
    "Thus the key `\"Cuba I\"` would have the value: `{'Name': 'Cuba I', 'Month': 'October', 'Year': 1924, 'Max Sustained Wind': 165, 'Areas Affected': ['Central America', 'Mexico', 'Cuba', 'Florida', 'The Bahamas'], 'Damage': 'Damages not recorded', 'Deaths': 90}.`\n",
    "\n",
    "Test your function on the lists of data provided."
   ]
  },
  {
   "cell_type": "code",
   "execution_count": 108,
   "metadata": {},
   "outputs": [
    {
     "output_type": "stream",
     "name": "stdout",
     "text": [
      "{'Name': 'Cuba I', 'Month': 'October', 'Year': 1924, 'Max Sustained Wind': 165, 'Areas Affected': ['Central America', 'Mexico', 'Cuba', 'Florida', 'The Bahamas'], 'Damage': 'Damages not recorded', 'Death': 90}\n"
     ]
    }
   ],
   "source": [
    "# write your construct hurricane dictionary function here:\n",
    "\n",
    "\n",
    "def hurricane_dictionary(names, months, years, max_sustained_winds, areas_affected, updated_damages, deaths):\n",
    "    hurricanes_dict = {}\n",
    "\n",
    "    for n in range(len(names)):\n",
    "        hurricanes_dict[names[n]] = {\"Name\": names[n], \"Month\": months[n], \"Year\": years[n], \"Max Sustained Wind\": max_sustained_winds[n], \"Areas Affected\": areas_affected[n], \"Damage\": updated_damages[n], \"Death\": deaths[n]}\n",
    "        \n",
    "    return hurricanes_dict\n",
    "\n",
    "\n",
    "hurricanes = hurricane_dictionary(names, months, years, max_sustained_winds, areas_affected, updated_damages, deaths)\n",
    "print(hurricanes['Cuba I'])\n",
    "\n",
    "\n",
    "#print(hurricanes)\n",
    "\n"
   ]
  },
  {
   "cell_type": "markdown",
   "metadata": {},
   "source": [
    "### hurricane by year dictionary function"
   ]
  },
  {
   "source": [
    "In addition to organizing the hurricanes in a dictionary with names as the key, you want to be able to organize the hurricanes by year.\n",
    "\n",
    "Write a function that converts the current dictionary of hurricanes to a new dictionary, where the keys are years and the values are lists containing a dictionary for each hurricane that occurred in that year.\n",
    "\n",
    "For example, the key 1932 would yield the value: [{'Name': 'Bahamas', 'Month': 'September', 'Year': 1932, 'Max Sustained Wind': 160, 'Areas Affected': ['The Bahamas', 'Northeastern United States'], 'Damage': 'Damages not recorded', 'Deaths': 16}, {'Name': 'Cuba II', 'Month': 'November', 'Year': 1932, 'Max Sustained Wind': 175, 'Areas Affected': ['Lesser Antilles', 'Jamaica', 'Cayman Islands', 'Cuba', 'The Bahamas', 'Bermuda'], 'Damage': 40000000.0, 'Deaths': 3103}].\n",
    "\n",
    "Test your function on your hurricane dictionary."
   ],
   "cell_type": "markdown",
   "metadata": {}
  },
  {
   "cell_type": "code",
   "execution_count": 46,
   "metadata": {},
   "outputs": [
    {
     "output_type": "stream",
     "name": "stdout",
     "text": [
      "[{'Name': 'Cuba I', 'Month': 'October', 'Year': 1924, 'Max Sustained Wind': 165, 'Areas Affected': ['Central America', 'Mexico', 'Cuba', 'Florida', 'The Bahamas'], 'Damage': 'Damages not recorded', 'Death': 90}]\n"
     ]
    }
   ],
   "source": [
    "# write your construct hurricane by year dictionary function here:\n",
    "\n",
    "def hurricane_dictionary_years(year): #names, months, years, max_sustained_winds, areas_affected, updated_damages, deaths):\n",
    "    hurricanes_year = []\n",
    "\n",
    "    for name in hurricanes:\n",
    "      if hurricanes[name]['Year'] == year:\n",
    "        hurricanes_year.append(hurricanes[name])\n",
    "      \n",
    "    return hurricanes_year\n",
    "\n",
    "\n",
    "    \n",
    "        \n",
    "        \n",
    "  #  return hurricanes\n",
    "\n",
    "\n",
    "#hurricanes_years = hurricane_dictionary_years(years)#, months, years, max_sustained_winds, areas_affected, updated_damages, deaths)\n",
    "print(hurricane_dictionary_years(1924))\n",
    "\n",
    "\n",
    "#hurricane_dictionary_years(1932)\n",
    "\n",
    "\n"
   ]
  },
  {
   "cell_type": "markdown",
   "metadata": {},
   "source": [
    "### count affected areas function\n",
    "\n",
    "You believe that knowing how often each of the areas of the Atlantic are affected by these strong hurricanes is important for making preparations for future hurricanes.\n",
    "\n",
    "Write a function that counts how often each area is listed as an affected area of a hurricane. Store and return the results in a dictionary where the `keys are the affected areas` and the `values are counts of how many times the areas were affected.`\n",
    "\n",
    "Test your function on your hurricane dictionary."
   ]
  },
  {
   "cell_type": "code",
   "execution_count": 95,
   "metadata": {},
   "outputs": [
    {
     "output_type": "stream",
     "name": "stdout",
     "text": [
      "{'Central America': 9, 'Mexico': 7, 'Cuba': 6, 'Florida': 6, 'The Bahamas': 7, 'Lesser Antilles': 4, 'United States East Coast': 3, 'Atlantic Canada': 3, 'Northeastern United States': 2, 'Jamaica': 4, 'Cayman Islands': 1, 'Bermuda': 2, 'Texas': 4, 'Tamaulipas': 1, 'Yucatn Peninsula': 3, 'Georgia': 1, 'The Carolinas': 1, 'Virginia': 1, 'Southeastern United States': 1, 'Southwestern Quebec': 1, 'New England': 1, 'Louisiana': 1, 'Midwestern United States': 1, 'The Caribbean': 8, 'United States Gulf Coast': 6, 'United States East coast': 1, 'South Texas': 1, 'Venezuela': 3, 'Hispaniola': 1, 'South Florida': 1, 'Greater Antilles': 2, 'Bahamas': 2, 'Eastern United States': 1, 'Ontario': 1, 'Windward Islands': 1, 'Nicaragua': 1, 'Honduras': 1, 'Antilles': 1, 'Colombia': 1, 'Cape Verde': 1, 'British Virgin Islands': 1, 'U.S. Virgin Islands': 1, 'Virgin Islands': 1, 'Puerto Rico': 1, 'Dominican Republic': 1, 'Turks and Caicos Islands': 1, 'United States Gulf Coast (especially Florida Panhandle)': 1}\n"
     ]
    }
   ],
   "source": [
    "# write your count affected areas function here:\n",
    "\n",
    "def affected_areas_count(dic):\n",
    "    count = {}\n",
    "\n",
    "    for name in dic:\n",
    "        for area in dic[name]['Areas Affected']:\n",
    "            if area not in count:\n",
    "                count[area] = 1\n",
    "            elif area in count:\n",
    "                count[area] += 1\n",
    "    return count\n",
    "\n",
    "\n",
    "affected_areas_counter = affected_areas_count(hurricanes)\n",
    "print(affected_areas_counter)\n",
    "\n",
    "\n",
    "\n",
    "\n",
    "\n"
   ]
  },
  {
   "cell_type": "markdown",
   "metadata": {},
   "source": [
    "### find most affected area function \n",
    "\n",
    "Write a function that finds the area affected by the most hurricanes, and how often it was hit.\n",
    "\n",
    "Test your function on your affected area dictionary."
   ]
  },
  {
   "cell_type": "code",
   "execution_count": 114,
   "metadata": {},
   "outputs": [
    {
     "output_type": "stream",
     "name": "stdout",
     "text": [
      "('Central America', 9)\n"
     ]
    }
   ],
   "source": [
    "# write your find most affected area function here:\n",
    "def most_affected_area(dic):\n",
    "    counter = 0\n",
    "    #max_area = max(affected_areas_counter, key=affected_areas_counter.get)\n",
    "    max_area = ' '\n",
    "    #max_area_count = affected_areas_counter[max_area]\n",
    "    \n",
    "\n",
    "\n",
    "    for element in dic:\n",
    "        if counter < dic[element]:\n",
    "            max_area = element\n",
    "            counter = dic[element] - 1\n",
    "            counter += 1\n",
    "    return max_area, counter\n",
    "\n",
    "\n",
    "\n",
    "    #print(sorted_dict)\n",
    "    #print(max_area)\n",
    "    #print(counter)\n",
    "\n",
    "print(most_affected_area(affected_areas_counter))\n",
    "\n",
    "\n",
    "\n",
    "\n",
    "\n",
    "\n",
    "\n"
   ]
  },
  {
   "cell_type": "markdown",
   "metadata": {},
   "source": [
    "### greatest number of deaths function\n",
    "\n",
    "Write a function that finds the hurricane that caused the greatest number of deaths, and how many deaths it caused.\n",
    "\n",
    "Test your function on your hurricane dictionary."
   ]
  },
  {
   "cell_type": "code",
   "execution_count": 113,
   "metadata": {},
   "outputs": [
    {
     "output_type": "stream",
     "name": "stdout",
     "text": [
      "('Mitch', 19325)\n"
     ]
    }
   ],
   "source": [
    "# write your greatest number of deaths function here:\n",
    "def num_of_deaths(dic):\n",
    "    death_dic = {}\n",
    "    counter = 0\n",
    "    max_death_hurricane = ' '\n",
    "\n",
    "    for element in dic:\n",
    "        if counter < dic[element]['Death']:\n",
    "            max_death_hurricane = element\n",
    "            counter = dic[element]['Death'] - 1\n",
    "            counter += 1\n",
    "    return max_death_hurricane, counter\n",
    "\n",
    "print(num_of_deaths(hurricanes))\n",
    "\n",
    "\n",
    "\n",
    "\n"
   ]
  },
  {
   "cell_type": "markdown",
   "metadata": {},
   "source": [
    "### catgeorize by mortality function\n",
    "\n",
    "Just as hurricanes are rated by their windspeed, you want to try rating hurricanes based on other metrics.\n",
    "\n",
    "Write a function that rates hurricanes on a mortality scale according to the following ratings, where the key is the rating and the value is the upper bound of deaths for that rating.\n",
    "\n",
    "```\n",
    "mortality_scale = {0: 0,\n",
    "                   1: 100,\n",
    "                   2: 500,\n",
    "                   3: 1000,\n",
    "                   4: 10000}\n",
    "```\n",
    "                   \n",
    "For example, a hurricane with a 1 mortality rating would have resulted in greater than 0 but less than or equal to 100 deaths. A hurricane with a 5 mortality rating would have resulted in greater than 10000 deaths.\n",
    "\n",
    "Store the hurricanes in a new dictionary where the keys are mortality ratings and the values are lists containing a dictionary for each hurricane that falls into that mortality rating.\n",
    "\n",
    "Test your function on your hurricane dictionary."
   ]
  },
  {
   "cell_type": "code",
   "execution_count": 131,
   "metadata": {},
   "outputs": [
    {
     "output_type": "stream",
     "name": "stdout",
     "text": [
      "{1: ['Cuba I', 'Bahamas', 'Carol', 'Carla', 'Edith', 'Anita', 'Andrew', 'Isabel', 'Emily', 'Wilma', 'Dean', 'Michael'], 2: ['CubaBrownsville', 'Tampico', 'Labor Day', 'Hattie', 'Camille', 'Allen', 'Gilbert', 'Hugo', 'Ivan', 'Rita', 'Felix', 'Irma'], 3: ['New England', 'Beulah', 'Matthew'], 4: ['San Felipe II Okeechobee', 'Cuba II', 'Janet', 'David', 'Katrina', 'Maria'], 5: ['Mitch']}\n"
     ]
    }
   ],
   "source": [
    "# write your catgeorize by mortality function here:\n",
    "def hurricane_mortality_rate(dic):\n",
    "    mortality_rate_dict = {1:[], 2:[], 3:[], 4:[], 5:[]}\n",
    "\n",
    "    for element in dic:\n",
    "        if 0 <= dic[element]['Death'] < 100:\n",
    "            mortality_rate_dict[1].append(dic[element]['Name'])\n",
    "        elif 100 <= dic[element]['Death'] < 500:\n",
    "            mortality_rate_dict[2].append(dic[element]['Name'])\n",
    "        elif 500 <= dic[element]['Death'] < 1000:\n",
    "            mortality_rate_dict[3].append(dic[element]['Name'])\n",
    "        elif 1000 <= dic[element]['Death'] < 10000:\n",
    "            mortality_rate_dict[4].append(dic[element]['Name'])\n",
    "        elif 10000 <= dic[element]['Death']:\n",
    "            mortality_rate_dict[5].append(dic[element]['Name'])\n",
    "    return mortality_rate_dict\n",
    "\n",
    "print(hurricane_mortality_rate(hurricanes))\n",
    "\n",
    "\n",
    "\n",
    "\n",
    "\n",
    "\n"
   ]
  },
  {
   "cell_type": "markdown",
   "metadata": {},
   "source": [
    "### greatest damage function\n",
    "\n",
    "Write a function that finds the hurricane that caused the greatest damage, and how costly it was.\n",
    "\n",
    "Test your function on your hurricane dictionary."
   ]
  },
  {
   "cell_type": "code",
   "execution_count": 121,
   "metadata": {},
   "outputs": [
    {
     "output_type": "stream",
     "name": "stdout",
     "text": [
      "('Katrina', 125000000000.0)\n"
     ]
    }
   ],
   "source": [
    "# write your greatest damage function here:\n",
    "\n",
    "def greatest_damage(dic):\n",
    "    death_dic = {}\n",
    "    counter = 0\n",
    "    max_damage = ' '\n",
    "\n",
    "    for element in dic:\n",
    "        try:\n",
    "            if counter < dic[element]['Damage']:\n",
    "                max_damage = element\n",
    "                counter = dic[element]['Damage'] - 1\n",
    "                counter += 1\n",
    "        except TypeError:\n",
    "                continue\n",
    "    return max_damage, counter\n",
    "\n",
    "print(greatest_damage(hurricanes))\n",
    "\n",
    "\n",
    "\n",
    "\n",
    "\n"
   ]
  },
  {
   "cell_type": "markdown",
   "metadata": {},
   "source": [
    "### catgeorize by damage function\n",
    "\n",
    "Lastly, you want to rate hurricanes according to how much damage they cause.\n",
    "\n",
    "Write a function that rates hurricanes on a damage scale according to the following ratings, where the key is the rating and the value is the upper bound of damage for that rating.\n",
    "```\n",
    "damage_scale = {0: 0,\n",
    "                1: 100000000,\n",
    "                2: 1000000000,\n",
    "                3: 10000000000,\n",
    "                4: 50000000000}\n",
    "\n",
    "```\n",
    "\n",
    "For example, a hurricane with a 1 damage rating would have resulted in damages greater than 0 USD but less than or equal to 100000000 USD. A hurricane with a 5 damage rating would have resulted in damages greater than 50000000000 USD (talk about a lot of money).\n",
    "\n",
    "Store the hurricanes in a new dictionary where the keys are damage ratings and the values are lists containing a dictionary for each hurricane that falls into that damage rating.\n",
    "\n",
    "Test your function on your hurricane dictionary."
   ]
  },
  {
   "cell_type": "code",
   "execution_count": 138,
   "metadata": {},
   "outputs": [
    {
     "output_type": "stream",
     "name": "stdout",
     "text": [
      "{0: ['Cuba I', 'Bahamas', 'Labor Day', 'Anita'], 1: ['Cuba II', 'CubaBrownsville', 'Tampico', 'Carol', 'Janet', 'Hattie', 'Edith'], 2: ['San Felipe II Okeechobee', 'New England', 'Carla', 'Beulah', 'Felix'], 3: ['Camille', 'David', 'Allen', 'Gilbert', 'Mitch', 'Isabel', 'Emily', 'Dean'], 4: ['Hugo', 'Andrew', 'Ivan', 'Rita', 'Wilma', 'Matthew', 'Michael'], 5: ['Katrina', 'Irma', 'Maria']}\n"
     ]
    }
   ],
   "source": [
    "# write your catgeorize by damage function here:\n",
    "def hurricane_damage_rate(dic):\n",
    "    damage_rate_dict = {0:[], 1:[], 2:[], 3:[], 4:[], 5:[]}\n",
    "\n",
    "    for element in dic:\n",
    "        try:\n",
    "            if dic[element]['Damage'] == 'Damages not recorded':\n",
    "                damage_rate_dict[0].append(dic[element]['Name'])\n",
    "            if 0 <= dic[element]['Damage'] < 100000000:\n",
    "                damage_rate_dict[1].append(dic[element]['Name'])\n",
    "            elif 100000000 <= dic[element]['Damage'] < 1000000000:\n",
    "                damage_rate_dict[2].append(dic[element]['Name'])\n",
    "            elif 1000000000 <= dic[element]['Damage'] < 10000000000:\n",
    "                damage_rate_dict[3].append(dic[element]['Name'])\n",
    "            elif 10000000000 <= dic[element]['Damage'] < 50000000000:\n",
    "                damage_rate_dict[4].append(dic[element]['Name'])\n",
    "            elif 50000000000 <= dic[element]['Damage']:\n",
    "                damage_rate_dict[5].append(dic[element]['Name'])\n",
    "        except TypeError:\n",
    "                continue\n",
    "\n",
    "    return damage_rate_dict\n",
    "\n",
    "print(hurricane_damage_rate(hurricanes))\n"
   ]
  },
  {
   "cell_type": "code",
   "execution_count": null,
   "metadata": {},
   "outputs": [],
   "source": []
  }
 ],
 "metadata": {
  "kernelspec": {
   "display_name": "Python 3",
   "language": "python",
   "name": "python3"
  },
  "language_info": {
   "codemirror_mode": {
    "name": "ipython",
    "version": 3
   },
   "file_extension": ".py",
   "mimetype": "text/x-python",
   "name": "python",
   "nbconvert_exporter": "python",
   "pygments_lexer": "ipython3",
   "version": "3.7.6-final"
  }
 },
 "nbformat": 4,
 "nbformat_minor": 4
}